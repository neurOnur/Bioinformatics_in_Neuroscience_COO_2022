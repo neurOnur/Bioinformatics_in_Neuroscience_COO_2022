{
 "cells": [
  {
   "cell_type": "markdown",
   "metadata": {
    "collapsed": false
   },
   "source": [
    "# COO - single cell RNA sequencing data analysis\n",
    "## Bioinformatics in Neuroscience course, 2022\n",
    "\n"
   ]
  },
  {
   "cell_type": "markdown",
   "metadata": {
    "collapsed": false
   },
   "source": [
    "<img src=\"https://cocalc7.science.uu.nl/projects/510bc61c-e9f3-40bc-8f23-1a94536e021a/files/scRNAseq_human_brain_2022/extra/COO_DALLE_2022-09-27_10.21.35_small.png\" alt=\"Single cell data analysis of the adult human brain\">"
   ]
  },
  {
   "cell_type": "markdown",
   "metadata": {
    "collapsed": false
   },
   "source": [
    "<div class=\"alert alert-warning\"><b>About this tutorial</b><br><br>\n",
    "<p>\n",
    "This is the single cell RNA sequencing (scRNAseq) data analysis tutorial, prepared for the scRNAseq days of the Bioinformatics in Neuroscience course, organised for the Neuroscience and Cognition master  and other Utrecht University master programs. The script follows the well known vignette of the Seurat (v3) pipeline for pbmc, adapted to analyse the scRNAseq data of the adult human brain.\n",
    "<p>\n",
    "</div> \n",
    "<div class=\"\">\n",
    "    <b>The data </b> is a subset of the recent work from Siletti et al (Bioarxiv, 2022; https://www.biorxiv.org/content/10.1101/2022.10.12.511898v1), which you received for this course. In this study, ~4M nuclei from different parts of the human brain is sequenced. You will later here a talk by the first author of the study, which will be a natural continuation of this practice. \n",
    "A subset of the original atlas is provided for the purpose of this practical in the file <b><i>\"../rawdata/A46_10X176_8_count_data.rds\" </i></b>. \n",
    "An accompanying metadata file,<b><i> \"../rawdata/A46_10X176_8_metadata.rds\"</i></b>, will give you additional information. The rawdata as well as analysis of the entire dataset can be reached at: https://github.com/linnarsson-lab/adult-human-brain \n",
    "<br><br>\n",
    "<b>Participants will then learn </b> how to use the ‘Seurat’ pipeline, the most popular ‘R’ package to process and analyze scRNAseq data. The instructor will guide the students step-by-step, where a prewritten code will take through the first steps of scRNAseq data analysis. These include shaping the raw data, preprocessing, dimensionality reduction, basic clustering and differential gene expression analysis. \n",
    "    <br><br>\n",
    "</div> \n",
    "\n",
    "<div class=\"alert alert-success\"><b>Learning goals</b><br><br>\n",
    "<p>1. Gain the capacity to run a standard scRNAseq data analysis pipeline independently</p>\n",
    "<p>2. Have the ability to interpret the results of single cell data analysis</p>\n",
    "<p>\n",
    "</div> \n",
    "\n",
    "<b>The course</b> used the CoCalc server: https://cocalc7.science.uu.nl/ \n"
   ]
  },
  {
   "cell_type": "markdown",
   "metadata": {
    "collapsed": false
   },
   "source": [
    "<div class=\"alert alert-success\"><b>During the tutorial, keep in mind</b><br><br>\n",
    "<p>1. What are the major considerations during the preprocessing steps?</p>\n",
    "<p>2. How does dimensionality reduction help us understand the data?</p>\n",
    "<p>3. What is a molecular signature? How can marker genes help us undertand cellular (and brain) function?</p>\n",
    "</div> \n"
   ]
  },
  {
   "cell_type": "markdown",
   "metadata": {
    "collapsed": false
   },
   "source": [
    "<div class=\"alert alert-warning\"><h2>Part I: Upload the data and create a Seurat object</h2>\n"
   ]
  },
  {
   "cell_type": "markdown",
   "metadata": {
    "collapsed": false
   },
   "source": [
    "<b>Some good practice</b><br>\n",
    "To keep everything ordered, make some folders for saving the data and the figures. You will receive a warning if you have already made these folders"
   ]
  },
  {
   "cell_type": "code",
   "execution_count": 0,
   "metadata": {
    "collapsed": false,
    "jupyter": {
    },
    "scrolled": true
   },
   "outputs": [
   ],
   "source": [
    "dir.create(\"write/\")\n",
    "dir.create(\"figures/\")"
   ]
  },
  {
   "cell_type": "markdown",
   "metadata": {
    "collapsed": false
   },
   "source": [
    "### 1.1 Load libraries\n",
    "\n",
    "Load the necessary libraries to run our pipeline based on the well-known Seurat pipeline. You can find detailed information on Seurat as well as tutorials on its website (https://satijalab.org/seurat/) or on Github (https://github.com/satijalab/seurat)\n",
    "\n",
    "We are going to use Seurat v3, which is well established. Note that there is a recent beta release (v4) with additional functionalities"
   ]
  },
  {
   "cell_type": "code",
   "execution_count": 0,
   "metadata": {
    "collapsed": false,
    "jupyter": {
    }
   },
   "outputs": [
   ],
   "source": [
    "# Load the libraries\n",
    "library(Seurat,verbose = FALSE)\n",
    "library(ggplot2,verbose = FALSE)\n",
    "library(RColorBrewer,verbose = FALSE)\n",
    "library(useful,verbose = FALSE)\n",
    "library(readr,verbose = FALSE)\n",
    "library(hdf5r,verbose = FALSE)\n",
    "\n",
    "# check if the following are on\n",
    "library(dplyr,verbose = FALSE)\n",
    "library(stringr,verbose = FALSE)\n"
   ]
  },
  {
   "cell_type": "markdown",
   "metadata": {
    "collapsed": false
   },
   "source": [
    "### 1.2 Load the data\n",
    "We will use the 10x Genomics data generated from the adult human brain. Since 4M cells are too many, we are using a ~5k subset. The data is stored in two seperate files\n"
   ]
  },
  {
   "cell_type": "code",
   "execution_count": 0,
   "metadata": {
    "collapsed": false,
    "jupyter": {
    }
   },
   "outputs": [
   ],
   "source": [
    "# This contains the actual data as a cell x gene matrix. Each cell in this matrix contain information on how many reads we have for a given gene in a given cell\n",
    "count_data <- read_rds(\"../rawdata/A46_10X176_8_count_data.rds\")"
   ]
  },
  {
   "cell_type": "code",
   "execution_count": 0,
   "metadata": {
    "collapsed": false,
    "jupyter": {
    }
   },
   "outputs": [
   ],
   "source": [
    "# the dimensions for a sanity check. The first dimension shows the number of features (in this case, genes) while the second indicates teh number of cells\n",
    "dim(count_data)"
   ]
  },
  {
   "cell_type": "code",
   "execution_count": 0,
   "metadata": {
    "collapsed": false,
    "scrolled": true
   },
   "outputs": [
   ],
   "source": [
    "# This contains the metadata. Each column contains information for each cell in teh dataset.\n",
    "metadata <-  read_rds('../rawdata/A46_10X176_8_metadata.rds')"
   ]
  },
  {
   "cell_type": "code",
   "execution_count": 0,
   "metadata": {
    "collapsed": false,
    "scrolled": true
   },
   "outputs": [
   ],
   "source": [
    "# what do we have in the metadata?\n",
    "colnames(metadata)"
   ]
  },
  {
   "cell_type": "markdown",
   "metadata": {
    "collapsed": false
   },
   "source": [
    "### 1.3 Create Seurat object"
   ]
  },
  {
   "cell_type": "markdown",
   "metadata": {
    "collapsed": false
   },
   "source": [
    "Here, we will create a \"seurat object\" which has a different structure than a data table. Seurat object contains the data as a matrix in a separate slot, but can also have 'features' that are linked to genes or cells. For instance cell types for each cell can be stored in a separate slot. In addition, we can store additional information e.g. results of differential expression test or coordinates for each cell after a given dimensionality reduction (e.g. pca)"
   ]
  },
  {
   "cell_type": "markdown",
   "metadata": {
    "collapsed": false
   },
   "source": [
    "'min.cells' is to filter *genes*: only genes detected in min of these number of cells will be kept\n",
    "'min.features' is to filter *cells*: only cells that have a minimum total of given number of features will be kept\n",
    "Thus, these two provide initial quality control of the data"
   ]
  },
  {
   "cell_type": "code",
   "execution_count": 0,
   "metadata": {
    "collapsed": false,
    "jupyter": {
    }
   },
   "outputs": [
   ],
   "source": [
    "dataset <- CreateSeuratObject(counts = count_data, min.cells = 1, min.features = 1000, meta.data = metadata,\n",
    "                          project = \"Human_brain\")"
   ]
  },
  {
   "cell_type": "markdown",
   "metadata": {
    "collapsed": false
   },
   "source": [
    "visualise the number of genes and features, which are already provided in the dataset"
   ]
  },
  {
   "cell_type": "code",
   "execution_count": 0,
   "metadata": {
    "collapsed": false,
    "scrolled": true
   },
   "outputs": [
   ],
   "source": [
    "head(dataset@meta.data)"
   ]
  },
  {
   "cell_type": "markdown",
   "metadata": {
    "collapsed": false
   },
   "source": [
    "The first visual quality control is to look at the number of cells (nCount_RNA) and number of genes (nFeature_RNA) per cells. These features are calculated while generating the Seurat object. For instance, the number of RNA molecules per cell is stored as 'nCount_RNA', which is located in dataset@meta.data$nCount_RNA"
   ]
  },
  {
   "cell_type": "markdown",
   "metadata": {
    "collapsed": false
   },
   "source": [
    "### 1.4 Visualise basic metrics"
   ]
  },
  {
   "cell_type": "code",
   "execution_count": 0,
   "metadata": {
    "collapsed": false,
    "jupyter": {
    }
   },
   "outputs": [
   ],
   "source": [
    "plot1 <- VlnPlot(object = dataset, features = c(\"nCount_RNA\", \"nFeature_RNA\"),pt.size = .01)\n",
    "plot2 <- FeatureScatter(dataset, feature1 = \"nCount_RNA\", feature2 = \"nFeature_RNA\")\n",
    "plot1 | plot2"
   ]
  },
  {
   "cell_type": "markdown",
   "metadata": {
    "collapsed": false
   },
   "source": [
    "<div class=\"alert alert-warning\"><b>Question 1.1\n",
    "<p>\n",
    "What do you see? :</b> \n",
    "<p>1. How do the number of genes and RNA molecules correlate?  </p>\n",
    "<p>2. There are two populations visible on the violin plot... What do these mean? </p>\n",
    "<p><b>Answer whenever you want!</b></p>\n",
    "</div> \n"
   ]
  },
  {
   "cell_type": "markdown",
   "metadata": {
    "collapsed": false
   },
   "source": [
    "<div class=\"alert alert-danger\"><h2>Back to the presentation</h2></div> "
   ]
  },
  {
   "cell_type": "markdown",
   "metadata": {
    "collapsed": false
   },
   "source": [
    "<div class=\"alert alert-success\"><h2>Part II: Preprocessing</h2>\n",
    "Quality control</div>"
   ]
  },
  {
   "cell_type": "markdown",
   "metadata": {
    "collapsed": false
   },
   "source": [
    "## 2.1 Standard pre-processing workflow\n"
   ]
  },
  {
   "cell_type": "markdown",
   "metadata": {
    "collapsed": false
   },
   "source": [
    "set a name that will be used later for the files you save. Anything goes. You can add your own name"
   ]
  },
  {
   "cell_type": "code",
   "execution_count": 0,
   "metadata": {
    "collapsed": false,
    "jupyter": {
    }
   },
   "outputs": [
   ],
   "source": [
    "name = \"my_analysis_name\""
   ]
  },
  {
   "cell_type": "markdown",
   "metadata": {
    "collapsed": false
   },
   "source": [
    "### 2.1.1 Calculate additional QC metrics"
   ]
  },
  {
   "cell_type": "markdown",
   "metadata": {
    "collapsed": false
   },
   "source": [
    "<h5>\n",
    "    General information on the use of mitochondria and ribosomal proteins for QC\n",
    "</h5>\n",
    "Mitochondrial RNA is the mRNA that is generated by the mitochondrial genome. Normally, these constitute a small fraction of the total mRNA. However, in dying or damaged cells, while cytoplasmic/nuclear mRNA degrades rapidly, mitochondrial mRNA is rather well preserved. Thus, a high ratio of mitochondrial mRNA indicates BAD cell quality.\n",
    "\n",
    "mRNA coding for the Ribosomal subunit proteins is abundant (not to be confused with rRNA). Usually, a high ribosomal RNA percentage indicates production of a lot of proteins, and is very high in dividing cells or some secretory cells that need to constantly produce proteins. However, if most of the mRNA (>30-50%) that we detect is ribosomal, it means that we wont learn much from this cell, and that we should exclude it from the analysis."
   ]
  },
  {
   "cell_type": "markdown",
   "metadata": {
    "collapsed": false
   },
   "source": [
    "<div class=\"alert alert-warning\"><b>Question 2.1\n",
    "<p>\n",
    "Note that we are analysing single nuclei data. We have the following question:</b> \n",
    "<p>1. How do you think this will effect our quality control? </p>\n",
    "<p>2. In this case, what does high ribosomal/mitochondrial percentage mean?</p>\n",
    "<p>Spend  1 min to think about the questions. Then, talk to the person next to you about what you think. Finally, summarise it in one sentence</p>\n",
    "</div> \n"
   ]
  },
  {
   "cell_type": "code",
   "execution_count": 0,
   "metadata": {
    "collapsed": false,
    "jupyter": {
    }
   },
   "outputs": [
   ],
   "source": [
    "# Start by generating  QC metrics additional to the no of genes/features\n",
    "dataset <- PercentageFeatureSet(dataset,pattern='^MT-', col.name = \"percent.mt\") #Select all features starting with MT-, which are the Mitochondrial genes\n",
    "dataset <- PercentageFeatureSet(dataset,pattern='RP(S|L)', col.name = \"percent.ribo\") # Select all that starts with RPS or RPL"
   ]
  },
  {
   "cell_type": "markdown",
   "metadata": {
    "collapsed": false
   },
   "source": [
    "Plot and inspect. You can remove the ots in case they cause too much moise"
   ]
  },
  {
   "cell_type": "markdown",
   "metadata": {
    "collapsed": false
   },
   "source": [
    "### 2.1.2 Visualise QC metrics"
   ]
  },
  {
   "cell_type": "code",
   "execution_count": 0,
   "metadata": {
    "collapsed": false,
    "jupyter": {
    }
   },
   "outputs": [
   ],
   "source": [
    "options(repr.plot.width=12, repr.plot.height=6)\n",
    "VlnPlot(object = dataset, features = c(\"percent.mt\", \"percent.ribo\"))"
   ]
  },
  {
   "cell_type": "markdown",
   "metadata": {
    "collapsed": false
   },
   "source": [
    "You can save them all as a pdf file to use in presentations, reports etc"
   ]
  },
  {
   "cell_type": "code",
   "execution_count": 0,
   "metadata": {
    "collapsed": false,
    "jupyter": {
    }
   },
   "outputs": [
   ],
   "source": [
    "pdf(paste0(name,\"_Vlnplot_stats_all.pdf\"),height = 6,width = 12)\n",
    "VlnPlot(object = dataset, features = c(\"nCount_RNA\", \"nFeature_RNA\",\"percent.mt\", \"percent.ribo\"))\n",
    "# If there are too many points for your liking, you can turn them off as follows:\n",
    "#VlnPlot(object = dataset, features = c(\"nCount_RNA\", \"nFeature_RNA\",\"percent.mt\", \"percent.ribo\"),pt.size = 0, cols = \"blue\")\n",
    "dev.off()\n"
   ]
  },
  {
   "cell_type": "markdown",
   "metadata": {
    "collapsed": false
   },
   "source": [
    "Visualise multiple metrics for each cell as a measure of the number of reads (in other words; UMI, or unique RNA molecules). This helps use to evaluate the quality of the data in multiple ways\n"
   ]
  },
  {
   "cell_type": "code",
   "execution_count": 0,
   "metadata": {
    "collapsed": false,
    "jupyter": {
    }
   },
   "outputs": [
   ],
   "source": [
    "plot1 <- FeatureScatter(dataset, feature1 = \"nCount_RNA\", feature2 = \"percent.mt\")\n",
    "plot2 <- FeatureScatter(dataset, feature1 = \"nCount_RNA\", feature2 = \"percent.ribo\")\n",
    "plot1 | plot2\n"
   ]
  },
  {
   "cell_type": "markdown",
   "metadata": {
    "collapsed": false
   },
   "source": [
    "### 2.2 Filter"
   ]
  },
  {
   "cell_type": "markdown",
   "metadata": {
    "collapsed": false
   },
   "source": [
    "Decide on the filtering parameters that you want to use. This is not always objective! However, you can see the 'outliers' in the data rather well"
   ]
  },
  {
   "cell_type": "code",
   "execution_count": 0,
   "metadata": {
    "collapsed": false,
    "jupyter": {
    }
   },
   "outputs": [
   ],
   "source": [
    "#Now filter\n",
    "dataset <- subset(x = dataset, subset = percent.mt < 5 & nCount_RNA < 90000 & percent.ribo < 2)"
   ]
  },
  {
   "cell_type": "code",
   "execution_count": 0,
   "metadata": {
    "collapsed": false,
    "jupyter": {
    },
    "scrolled": true
   },
   "outputs": [
   ],
   "source": [
    "dataset"
   ]
  },
  {
   "cell_type": "markdown",
   "metadata": {
    "collapsed": false
   },
   "source": [
    "Now get rid of the mitochondrial genes which we do not need for downstream analysis.\n"
   ]
  },
  {
   "cell_type": "code",
   "execution_count": 0,
   "metadata": {
    "collapsed": false,
    "jupyter": {
    },
    "scrolled": true
   },
   "outputs": [
   ],
   "source": [
    "dataset <- subset(x = dataset[-grep(pattern = \"^MT-\", x = rownames(dataset), value = FALSE)])\n",
    "dataset "
   ]
  },
  {
   "cell_type": "code",
   "execution_count": 0,
   "metadata": {
    "collapsed": false
   },
   "outputs": [
   ],
   "source": [
   ]
  },
  {
   "cell_type": "markdown",
   "metadata": {
    "collapsed": false
   },
   "source": [
    "<div class=\"alert alert-danger\"><h2>Back to the presentation</h2></div> "
   ]
  },
  {
   "cell_type": "markdown",
   "metadata": {
    "collapsed": false
   },
   "source": [
    "<div class=\"alert alert-success\"><h2>Part III: Normalize and find variable features</h2>\n",
    "Quality control</div>"
   ]
  },
  {
   "cell_type": "markdown",
   "metadata": {
    "collapsed": false
   },
   "source": [
    "### 3.1 Normalisation"
   ]
  },
  {
   "cell_type": "markdown",
   "metadata": {
    "collapsed": false
   },
   "source": [
    "Standard flow of Seurat is replaced by a single command. However, it is good to see this part to learn each step"
   ]
  },
  {
   "cell_type": "code",
   "execution_count": 0,
   "metadata": {
    "collapsed": false,
    "jupyter": {
    }
   },
   "outputs": [
   ],
   "source": [
    "## normalise the data\n",
    "dataset <- NormalizeData(object = dataset, normalization.method = \"LogNormalize\", scale.factor = 10000)"
   ]
  },
  {
   "cell_type": "markdown",
   "metadata": {
    "collapsed": false
   },
   "source": [
    "The log transformed RNA counts from each cell is now normalised using a size factor. In other words, the sum of counts for each cells is more or less the same. We can now compare different cells to each other"
   ]
  },
  {
   "cell_type": "markdown",
   "metadata": {
    "collapsed": false
   },
   "source": [
    "### 3.2 Detection of variable genes across the single cells"
   ]
  },
  {
   "cell_type": "code",
   "execution_count": 0,
   "metadata": {
    "collapsed": false,
    "jupyter": {
    }
   },
   "outputs": [
   ],
   "source": [
    "## Here, we select the top 1,000 highly variable genes (Hvg) for downstream analysis.\n",
    "dataset <- FindVariableFeatures(object = dataset, selection.method = 'mean.var.plot', mean.cutoff = c(0.0125, 3), dispersion.cutoff = c(0.5, Inf))\n",
    "length(x = VariableFeatures(object = dataset)) #3084\n",
    "## Identify the 10 most highly variable genes\n",
    "top10 <- head(VariableFeatures(dataset), 10)"
   ]
  },
  {
   "cell_type": "code",
   "execution_count": 0,
   "metadata": {
    "collapsed": false,
    "jupyter": {
    }
   },
   "outputs": [
   ],
   "source": [
    "## Plot\n",
    "# plot variable features with and without labels\n",
    "plot1 <- VariableFeaturePlot(dataset)\n",
    "plot2 <- LabelPoints(plot = plot1, points = top10, repel = TRUE)\n",
    "#plot1\n",
    "plot2\n"
   ]
  },
  {
   "cell_type": "code",
   "execution_count": 0,
   "metadata": {
    "collapsed": false,
    "jupyter": {
    },
    "scrolled": true
   },
   "outputs": [
   ],
   "source": [
    "# Generate a vector with the top 1000 hvgens\n",
    "hv.genes <- head(rownames(HVFInfo(object = dataset)), 1000)\n"
   ]
  },
  {
   "cell_type": "markdown",
   "metadata": {
    "collapsed": false
   },
   "source": [
    "### Scale the data"
   ]
  },
  {
   "cell_type": "markdown",
   "metadata": {
    "collapsed": false
   },
   "source": [
    "Scale the values for each features. The result is in units of 'standard deviation' where the mean expression is zero. If a gene is expressed 1 standard deviation more than the mean across all cells, it will have a value of 1. During this process, we can also 'regress out' technical effects. For instance, the number of features and the mitochondrial percentage.\n"
   ]
  },
  {
   "cell_type": "code",
   "execution_count": 0,
   "metadata": {
    "collapsed": false,
    "jupyter": {
    }
   },
   "outputs": [
   ],
   "source": [
    "dataset <- ScaleData(object = dataset, features = hv.genes, vars.to.regress = c(\"nFeature_RNA\") ) "
   ]
  },
  {
   "cell_type": "markdown",
   "metadata": {
    "collapsed": false
   },
   "source": [
    "<div class=\"alert alert-danger\"><h2>Back to the presentation</h2></div> "
   ]
  },
  {
   "cell_type": "markdown",
   "metadata": {
    "collapsed": false
   },
   "source": [
    "<div class=\"alert alert-success\"><h2>Part IV: Dimensionality reduction techniques</h2>\n",
    "</div>"
   ]
  },
  {
   "cell_type": "markdown",
   "metadata": {
    "collapsed": false
   },
   "source": [
    "### 4.1 Perform dimensionality reduction"
   ]
  },
  {
   "cell_type": "markdown",
   "metadata": {
    "collapsed": false
   },
   "source": [
    "You can run PCA, t-SNE and UMAP in simple one-line codes... The parameters are NOT random, but we will ignore this for the sake of time"
   ]
  },
  {
   "cell_type": "code",
   "execution_count": 0,
   "metadata": {
    "collapsed": false,
    "jupyter": {
    }
   },
   "outputs": [
   ],
   "source": [
    "# Dimention reduction\n",
    "dataset <- RunPCA(object = dataset, features = hv.genes, verbose = FALSE,npcs = 50)"
   ]
  },
  {
   "cell_type": "code",
   "execution_count": 0,
   "metadata": {
    "collapsed": false
   },
   "outputs": [
   ],
   "source": [
    "dataset <- RunUMAP(object = dataset, reduction = \"pca\", dims = 1:50, verbose = FALSE)\n",
    "dataset <- RunTSNE(object = dataset, dims = 1:50, verbose = FALSE)"
   ]
  },
  {
   "cell_type": "markdown",
   "metadata": {
    "collapsed": false
   },
   "source": [
    "### 4.2 Examine and visualize PCA results a few different ways"
   ]
  },
  {
   "cell_type": "markdown",
   "metadata": {
    "collapsed": false
   },
   "source": [
    "#### 4.2.1 Dimplots\n",
    "First, let's have a look at the first three dimensions. For this, we will take advantage of some of hte metadata generated by the authors: <b>Supercluster</b> information"
   ]
  },
  {
   "cell_type": "code",
   "execution_count": 0,
   "metadata": {
    "collapsed": false,
    "jupyter": {
    }
   },
   "outputs": [
   ],
   "source": [
    "options(repr.plot.width=12, repr.plot.height=6)\n",
    "DimPlot(dataset,cols = 'Spectral',group.by = 'Supercluster',pt.size = 1,reduction = 'pca',dims = c(1,2))\n",
    "DimPlot(dataset,cols = 'Spectral',group.by = 'Supercluster',pt.size = 1,reduction = 'pca',dims = c(3,4))"
   ]
  },
  {
   "cell_type": "markdown",
   "metadata": {
    "collapsed": false
   },
   "source": [
    "<div class=\"alert alert-warning\"><b>Question 4.1\n",
    "<p>\n",
    "</b> \n",
    "    <p>\n",
    "        1. What differences do you see between different principle components?  \n",
    "    </p>\n",
    "    <p> \n",
    "        2. Some genes contribute more to the variation then others... What do these genes and principle components tell us?\n",
    "    </p>\n",
    "<p><b>Discuss with your neighbours, in groups of 3, for 2 min. We will go through the groups</b></p>\n",
    "</div> \n"
   ]
  },
  {
   "cell_type": "markdown",
   "metadata": {
    "collapsed": false
   },
   "source": [
    "#### 4.2.2 List of genes that influence PCs that most in both (+/-) directions\n",
    "You see the top genes that contribute to the respective principle components"
   ]
  },
  {
   "cell_type": "code",
   "execution_count": 0,
   "metadata": {
    "collapsed": false,
    "jupyter": {
    },
    "scrolled": true
   },
   "outputs": [
   ],
   "source": [
    "print(dataset[[\"pca\"]], dims = 1:5, nfeatures = 5)"
   ]
  },
  {
   "cell_type": "markdown",
   "metadata": {
    "collapsed": false
   },
   "source": [
    "#### 4.2.3 Visualise genes that influence PCs the most\n"
   ]
  },
  {
   "cell_type": "code",
   "execution_count": 0,
   "metadata": {
    "collapsed": false,
    "jupyter": {
    }
   },
   "outputs": [
   ],
   "source": [
    "VizDimLoadings(dataset, dims = 1:2, reduction = \"pca\")"
   ]
  },
  {
   "cell_type": "markdown",
   "metadata": {
    "collapsed": false
   },
   "source": [
    "#### 4.2.3 Heatmaps to visualise genes that influence PCs"
   ]
  },
  {
   "cell_type": "code",
   "execution_count": 0,
   "metadata": {
    "collapsed": false,
    "jupyter": {
    }
   },
   "outputs": [
   ],
   "source": [
    "options(repr.plot.width=12, repr.plot.height=9)\n",
    "DimHeatmap(dataset, dims = 1:4, cells = 500, balanced = TRUE, ncol = 2)"
   ]
  },
  {
   "cell_type": "markdown",
   "metadata": {
    "collapsed": false
   },
   "source": [
    "### 4.3 Determine statistically significant principal components\n",
    "<b>How many principle components do we need? There are some practical guidelines that will help with your analysis    \n",
    "    </b>\n",
    "\n",
    "#### 4.3.1 JackStrawPlot()\n",
    "We can do this with JackStrawPlot() function of Seurat. This is powerful, but time consuming. Running it altogether slows the server considerably. Also, we cannot visualise all different PCs (only up to 25). We will skip it for now (you can run it during the practice if you want to) and instead look at PCs using heatmaps"
   ]
  },
  {
   "cell_type": "raw",
   "metadata": {
    "collapsed": false,
    "jupyter": {
    }
   },
   "source": [
    "dataset <- JackStraw(object = dataset, num.replicate = 100)\n",
    "dataset <- ScoreJackStraw(object = dataset, dims = 1:20)\n",
    "JackStrawPlot(object = dataset, dims = 1:20)\n"
   ]
  },
  {
   "cell_type": "markdown",
   "metadata": {
    "collapsed": false
   },
   "source": [
    "#### 4.3.2 Heatmaps"
   ]
  },
  {
   "cell_type": "markdown",
   "metadata": {
    "collapsed": false
   },
   "source": [
    "We will plot the top genes from selected PCs and see how they differe between cells. "
   ]
  },
  {
   "cell_type": "code",
   "execution_count": 0,
   "metadata": {
    "collapsed": false
   },
   "outputs": [
   ],
   "source": [
    "options(repr.plot.width=18, repr.plot.height=9)\n",
    "DimHeatmap(dataset, dims = c(1,2,5,10,\n",
    "                             15,20,25,30,\n",
    "                             35,40,45,50), cells = 250, balanced = TRUE, ncol = 4)"
   ]
  },
  {
   "cell_type": "markdown",
   "metadata": {
    "collapsed": false
   },
   "source": [
    "<div class=\"alert alert-warning\"><b>Question 4.2\n",
    "<p>What do you see? \n",
    "</b> \n",
    "<p>1. When do you think the variation is meaningful, and when not?  </p>\n",
    "<p> 2. Some genes contribute more to the variation then others... What do these genes and principle components tell us?\n",
    "    </p>\n",
    "<p>3. What does it mean in terms of 'Superclusters'? </p>\n",
    "    <p>\n",
    "         4.How would our results change if we include less or more principle components for downstream analysis?\n",
    "    </p>\n",
    "<p><b>Think for yourself for 2 min, then talk to your neighbors, in groups of 3, for 2 min. We will go through the groups</b></p>\n",
    "</div> \n"
   ]
  },
  {
   "cell_type": "markdown",
   "metadata": {
    "collapsed": false
   },
   "source": [
    "#### 4.2.2 Elbowplot as an alternative"
   ]
  },
  {
   "cell_type": "code",
   "execution_count": 0,
   "metadata": {
    "collapsed": false,
    "jupyter": {
    }
   },
   "outputs": [
   ],
   "source": [
    "# Plots the standard deviations (or approximate singular values if running PCAFast) of the principle components for easy identification of an elbow in the graph. This elbow often corresponds well with the significant dims and speeds up running than Jackstraw\n",
    "# In this example, it looks like the elbow would fall around PC 11, then 25 and 35 again. After this, there is little change. \n",
    "options(repr.plot.width=12, repr.plot.height=6)\n",
    "ElbowPlot(object = dataset, reduction = \"pca\",ndims = 50)"
   ]
  },
  {
   "cell_type": "markdown",
   "metadata": {
    "collapsed": false
   },
   "source": [
    "<div class=\"alert alert-warning\"><b>Question 4.3\n",
    "<p>\n",
    "</b> \n",
    "    <p>\n",
    "        1. What does it mean in terms of 'Superclusters'? \n",
    "    </p>\n",
    "    <p>\n",
    "        2. When do you think the variation in a PC is meaningful, and when not?  \n",
    "    </p>\n",
    "    <p>\n",
    "        3.How would our results change if we include less or more principle components for downstream analysis?\n",
    "    </p>\n",
    "<p><b>Think for yourself for 2 min, then talk to your neighbors, in groups of 3, for 2 min. We will go through the groups</b></p>\n",
    "</div> \n"
   ]
  },
  {
   "cell_type": "markdown",
   "metadata": {
    "collapsed": false
   },
   "source": [
    "<div class=\"alert alert-danger\"><h2>Back to the presentation</h2></div> "
   ]
  },
  {
   "cell_type": "markdown",
   "metadata": {
    "collapsed": false
   },
   "source": [
    "<div class=\"alert alert-success\"><h2>Part V: Clustering</h2>\n",
    "</div>"
   ]
  },
  {
   "cell_type": "markdown",
   "metadata": {
    "collapsed": false
   },
   "source": [
    "### 5.1 Find clusters"
   ]
  },
  {
   "cell_type": "markdown",
   "metadata": {
    "collapsed": false
   },
   "source": [
    "here, we will use graph-based clustering to identify groups of cells that are similar, which we will call 'clusters'"
   ]
  },
  {
   "cell_type": "markdown",
   "metadata": {
    "collapsed": false
   },
   "source": [
    "#### 5.1.1 Use embeded 'louvain' algorithm for clustering"
   ]
  },
  {
   "cell_type": "code",
   "execution_count": 0,
   "metadata": {
    "collapsed": false,
    "jupyter": {
    }
   },
   "outputs": [
   ],
   "source": [
    "#SNN Graph Construction\n",
    "dataset <- FindNeighbors(object = dataset, dims = 1:35) #cell the pcs based on Jackstraw and Elbow plots\n",
    "#Find clusters using the louvain algorithm\n",
    "dataset <- FindClusters(object = dataset, resolution = 1) # changing the resolution will change the size/number of clusters! c(0.6, 0.8, 1)"
   ]
  },
  {
   "cell_type": "markdown",
   "metadata": {
    "collapsed": false
   },
   "source": [
    "#### 5.1.2 Visualize QCs\n",
    "Let's have a look at the QC stats agian. As default, this time the information will be displayed per cluster"
   ]
  },
  {
   "cell_type": "code",
   "execution_count": 0,
   "metadata": {
    "collapsed": false,
    "jupyter": {
    }
   },
   "outputs": [
   ],
   "source": [
    "# Statistics\n",
    "options(repr.plot.width=12, repr.plot.height=6)\n",
    "VlnPlot(object = dataset, features = c(\"nCount_RNA\", \"nFeature_RNA\"),pt.size = 0)"
   ]
  },
  {
   "cell_type": "markdown",
   "metadata": {
    "collapsed": false
   },
   "source": [
    "### 5.2 Cell type identification"
   ]
  },
  {
   "cell_type": "markdown",
   "metadata": {
    "collapsed": false
   },
   "source": [
    "#### 5.2.1 Visualise lineage specific genes curated from the literature"
   ]
  },
  {
   "cell_type": "markdown",
   "metadata": {
    "collapsed": false
   },
   "source": [
    "We provide some markers from the literature as a reference for identifying cell types. You can find more of these in Siletti et al 2022 Bioarxiv manuscript\n",
    ">ELAVL2, TUBB3:\t\tNeurons \\\n",
    ">PLP1:\t\t\t\t\t\tOligodendrocytes \\\n",
    ">GFAP:\t\t\t\t\t\tAstrocytes \\\n",
    ">ITGAM:\t\t\t\t\t\tMicroglia \\\n",
    ">PECAM1:\t\t\t\tEndothelial cells"
   ]
  },
  {
   "cell_type": "markdown",
   "metadata": {
    "collapsed": false
   },
   "source": [
    "##### 5.2.1.1 t-SNE plots for visualising markers at single cell level"
   ]
  },
  {
   "cell_type": "code",
   "execution_count": 0,
   "metadata": {
    "collapsed": false,
    "jupyter": {
    }
   },
   "outputs": [
   ],
   "source": [
    "options(repr.plot.width=18, repr.plot.height=12)\n",
    "ColorRamp <- colorRampPalette(rev(brewer.pal(n = 7,name = \"RdYlBu\")))(100) # This is how to generate a color key\n",
    "FeaturePlot(object = dataset, features = c(\"ELAVL2\",\"TUBB3\",\"PLP1\",\"GFAP\",\"ITGAM\",\"PECAM1\"),reduction = 'tsne',cols = ColorRamp, ncol =3)"
   ]
  },
  {
   "cell_type": "markdown",
   "metadata": {
    "collapsed": false
   },
   "source": [
    "Neurons are very diverse! We can use additonal markers to classify them functionally as 'Glutamatergic' and 'GABAergic'\n",
    "\n",
    "> SLC17A5, SLC17A6:\t\t\t\tGlutamatergic neurons \\\n",
    "> GAD1, GAD2, SLC32A1:\t\tGABAergic neurons"
   ]
  },
  {
   "cell_type": "code",
   "execution_count": 0,
   "metadata": {
    "collapsed": false
   },
   "outputs": [
   ],
   "source": [
    "options(repr.plot.width=18, repr.plot.height=12)\n",
    "ColorRamp <- colorRampPalette(rev(brewer.pal(n = 7,name = \"RdYlBu\")))(100) # This is how to generate a color key\n",
    "FeaturePlot(object = dataset, features = c(\"ELAVL2\",\"GAD1\",\"GAD2\",\"SLC17A5\",\"SLC17A6\",\"SLC32A1\"),reduction = 'tsne',cols = ColorRamp, ncol =3)"
   ]
  },
  {
   "cell_type": "markdown",
   "metadata": {
    "collapsed": false
   },
   "source": [
    "##### 5.2.1.2 Violin plot for cluster level average"
   ]
  },
  {
   "cell_type": "code",
   "execution_count": 0,
   "metadata": {
    "collapsed": false,
    "jupyter": {
    }
   },
   "outputs": [
   ],
   "source": [
    "options(repr.plot.width=18, repr.plot.height=6)\n",
    "VlnPlot(object = dataset, features = c(\"ELAVL2\",\"TUBB3\",\"PLP1\",\"GFAP\",\"ITGAM\",\"PECAM1\"),pt.size = 0, ncol =2) #, slot = 'counts'\n",
    "# you can plot raw counts as well"
   ]
  },
  {
   "cell_type": "code",
   "execution_count": 0,
   "metadata": {
    "collapsed": false
   },
   "outputs": [
   ],
   "source": [
    "options(repr.plot.width=18, repr.plot.height=6)\n",
    "VlnPlot(object = dataset, features = c(\"ELAVL2\",\"GAD1\",\"GAD2\",\"SLC17A5\",\"SLC17A6\",\"SLC32A1\"),pt.size = 0, ncol =2) #, slot = 'counts'\n",
    "# you can plot raw counts as well"
   ]
  },
  {
   "cell_type": "markdown",
   "metadata": {
    "collapsed": false
   },
   "source": [
    "You can use marker gene information to name each cluster as \n",
    "> cell classes e.g.  <b>oligodendrocytes, neurons </b> or \\\n",
    "> marker-defined cell types e.g. <b>GlutamatergicNeuron_0</b>"
   ]
  },
  {
   "cell_type": "markdown",
   "metadata": {
    "collapsed": false
   },
   "source": [
    "#### 5.2.2 Compare our clusters with the metadata\n",
    "Your clusters are saved in the metadata, as part of the seurat object, with the name \"seurat_clusters\". We compare this to the metadata from the authors, which will help you decide which clusters belong to which cell type\n"
   ]
  },
  {
   "cell_type": "code",
   "execution_count": 0,
   "metadata": {
    "collapsed": false
   },
   "outputs": [
   ],
   "source": [
    "plot21 <- DimPlot(object = dataset, reduction = 'tsne',group.by = \"seurat_clusters\")\n",
    "plot22 <- DimPlot(object = dataset, reduction = 'tsne',group.by = \"Supercluster\")\n",
    "plot23 <- DimPlot(object = dataset, reduction = 'tsne',group.by = \"Clusters\")\n",
    "\n",
    "#plot, adjusting the size of the graph\n",
    "options(repr.plot.width=18, repr.plot.height=6)\n",
    "plot21 | plot22\n",
    "options(repr.plot.width=12, repr.plot.height=6)\n",
    "plot23"
   ]
  },
  {
   "cell_type": "markdown",
   "metadata": {
    "collapsed": false
   },
   "source": [
    "We can visualise the number of cells labeled with each label using the table() function"
   ]
  },
  {
   "cell_type": "code",
   "execution_count": 0,
   "metadata": {
    "collapsed": false
   },
   "outputs": [
   ],
   "source": [
    "table(dataset@meta.data[['Supercluster']])"
   ]
  },
  {
   "cell_type": "markdown",
   "metadata": {
    "collapsed": false
   },
   "source": [
    "<div class=\"alert alert-warning\">\n",
    "    <b>Question 5.1</b>\n",
    "<p explanation>\n",
    "    <p questions>\n",
    "        1. Why are there such big differences in the number of clusters between different analysis?\n",
    "    </p>\n",
    "<p><b how to answer>Shoot your answer!</b></p>\n",
    "</div> \n"
   ]
  },
  {
   "cell_type": "markdown",
   "metadata": {
    "collapsed": false
   },
   "source": [
    "#### 5.2.3 Visualise how different labels compare to each other"
   ]
  },
  {
   "cell_type": "markdown",
   "metadata": {
    "collapsed": false
   },
   "source": [
    "To compare them, we will do a trick. First, generate a dataframe with teh information you need, then use the table() function of make a confusion matrix"
   ]
  },
  {
   "cell_type": "code",
   "execution_count": 0,
   "metadata": {
    "collapsed": false,
    "scrolled": true
   },
   "outputs": [
   ],
   "source": [
    "df <- as.data.frame(cbind(dataset@meta.data[['Supercluster']],dataset@meta.data[['seurat_clusters']]))\n",
    "rownames(df) <- colnames(dataset)\n",
    "colnames(df) <- c('Supercluster','seurat_clusters') #Supercluster Clusters"
   ]
  },
  {
   "cell_type": "code",
   "execution_count": 0,
   "metadata": {
    "collapsed": false
   },
   "outputs": [
   ],
   "source": [
    "head(table(df)[,1:10]) #head() automatically looks at teh first 6 rows. We also shorthen the columns to 10"
   ]
  },
  {
   "cell_type": "markdown",
   "metadata": {
    "collapsed": false
   },
   "source": [
    "Quick hetmap to visualise which cell types belong to which cluster"
   ]
  },
  {
   "cell_type": "code",
   "execution_count": 0,
   "metadata": {
    "collapsed": false
   },
   "outputs": [
   ],
   "source": [
    "heatmap(table(df),xlab ='seurat_clusters')"
   ]
  },
  {
   "cell_type": "markdown",
   "metadata": {
    "collapsed": false
   },
   "source": [
    "<div class=\"alert alert-warning\">\n",
    "    <b>Question 5.2</b>\n",
    "<p explanation>\n",
    "    <p questions>\n",
    "        1. What does the heatmap tell you?\n",
    "    </p>\n",
    "<p><b how to answer>Shoot your answer!</b></p>\n",
    "</div> \n"
   ]
  },
  {
   "cell_type": "markdown",
   "metadata": {
    "collapsed": false
   },
   "source": [
    "<div class=\"alert alert-danger\"><h2>Back to the presentation</h2></div> "
   ]
  },
  {
   "cell_type": "markdown",
   "metadata": {
    "collapsed": false
   },
   "source": [
    "<div class=\"alert alert-success\"><h2>Part VI: Differential gene expression analysis</h2>\n",
    "An important step in scRNAseq data analysis is to find out the molecular signature (or genes) that discriminate a cluster from others. There are different ways of comparing clusters (e.g. two clusters, or one versus all, or a few clusters versus a few clusters) and different statistical methods to achieve this\n",
    "</div>"
   ]
  },
  {
   "cell_type": "markdown",
   "metadata": {
    "collapsed": false
   },
   "source": [
    "### 6.1 find marker genes for each cluster"
   ]
  },
  {
   "cell_type": "markdown",
   "metadata": {
    "collapsed": false
   },
   "source": [
    "#### 6.1.1 Start with a single cluster"
   ]
  },
  {
   "cell_type": "markdown",
   "metadata": {
    "collapsed": false
   },
   "source": [
    "We often want to see what makes a cluster special, or different than the rest. You can achieve this here"
   ]
  },
  {
   "cell_type": "code",
   "execution_count": 0,
   "metadata": {
    "collapsed": false,
    "jupyter": {
    }
   },
   "outputs": [
   ],
   "source": [
    "cluster1.markers <- FindMarkers(object = dataset, ident.1 = 0, min.pct = 0.25) #, ident.2 = c(0, 3) to compare\n",
    "head(x = cluster1.markers, n = 5)"
   ]
  },
  {
   "cell_type": "markdown",
   "metadata": {
    "collapsed": false
   },
   "source": [
    "#### 6.1.2 Find markers for every cluster compared to all remaining cells, report only the positive ones\n",
    "This is extremely useful to define what these cells are! However, you will see that a 'global comparison' is not always as accurate as you would expect"
   ]
  },
  {
   "cell_type": "code",
   "execution_count": 0,
   "metadata": {
    "collapsed": false
   },
   "outputs": [
   ],
   "source": [
    "library(dplyr)\n",
    "dataset.markers <- FindAllMarkers(object = dataset, only.pos = TRUE, min.pct = 0.25, logfc.threshold = 0.25)\n",
    "# we have just calculated the marker genes for each cell type"
   ]
  },
  {
   "cell_type": "markdown",
   "metadata": {
    "collapsed": false
   },
   "source": [
    "We can select the top genes for each cluster. Here, we will select the top 2 genes"
   ]
  },
  {
   "cell_type": "code",
   "execution_count": 0,
   "metadata": {
    "collapsed": false,
    "jupyter": {
    }
   },
   "outputs": [
   ],
   "source": [
    "dataset.markers %>% group_by(cluster) %>% top_n(n = 2, wt = avg_log2FC)  %>% head(n=10)\n",
    "# Takes a bit of time"
   ]
  },
  {
   "cell_type": "markdown",
   "metadata": {
    "collapsed": false
   },
   "source": [
    "<b> save the data as separate sheets in an excel file</b>\n"
   ]
  },
  {
   "cell_type": "code",
   "execution_count": 0,
   "metadata": {
    "collapsed": false,
    "jupyter": {
    }
   },
   "outputs": [
   ],
   "source": [
    "library(openxlsx)\n",
    "## Create Workbook object and add worksheets\n",
    "wb <- createWorkbook()\n",
    "## Add the cluster info\n",
    "for ( n in unique(dataset.markers$cluster) ) {\n",
    "  addWorksheet(wb, n)\n",
    "  writeData(wb, n, dataset.markers[dataset.markers$cluster == n,], startCol = 1, startRow = 1, rowNames = TRUE, colNames = TRUE)\n",
    "}\n",
    "#save\n",
    "saveWorkbook(wb, paste(name,\"_cell_clust_diff_genes.xlsx\",sep=\"\"), overwrite = TRUE)"
   ]
  },
  {
   "cell_type": "markdown",
   "metadata": {
    "collapsed": false
   },
   "source": [
    "### 6.2 DoHeatmap generates an expression heatmap for given cells and features. \n",
    "In this case, we are plotting the top 20 markers (or all markers if less than 20) for each cluster."
   ]
  },
  {
   "cell_type": "code",
   "execution_count": 0,
   "metadata": {
    "collapsed": false,
    "jupyter": {
    }
   },
   "outputs": [
   ],
   "source": [
    "dataset.markers %>% group_by(cluster) %>% top_n(n = 10, wt = avg_log2FC) -> top10"
   ]
  },
  {
   "cell_type": "code",
   "execution_count": 0,
   "metadata": {
    "collapsed": false,
    "jupyter": {
    }
   },
   "outputs": [
   ],
   "source": [
    "options(repr.plot.width=12, repr.plot.height=12)\n",
    "#dataset <- ScaleData(object = dataset, features = rownames(top10$gene)) #,vars.to.regress = \"percent.mt\"\n",
    "DoHeatmap(object = dataset, features = top10$gene[1:100],slot =  'scale.data') + NoLegend()"
   ]
  },
  {
   "cell_type": "markdown",
   "metadata": {
    "collapsed": false
   },
   "source": [
    "<div class=\"alert alert-warning\"><b>Question 1\n",
    "<p>\n",
    "What do you see? :</b> \n",
    "<p>1. How do the number of genes and RNA molecules correlate?  </p>\n",
    "<p>2. There are two populations visible on the violin plot... What do these mean? </p>\n",
    "<p><b>Answer whenever you want!</b></p>\n",
    "</div> \n"
   ]
  },
  {
   "cell_type": "markdown",
   "metadata": {
    "collapsed": false
   },
   "source": [
    "<div class=\"alert alert-danger\"><h2>Back to the presentation</h2></div> "
   ]
  },
  {
   "cell_type": "markdown",
   "metadata": {
    "collapsed": false
   },
   "source": [
    "<div class=\"alert alert-success\"><h2>Assignment</h2>\n",
    " <h5>\n",
    "     Workflow\n",
    "    </h5>\n",
    "1. Discuss a workplan, split the work\n",
    "2. Go through the assignment individually\n",
    "3. Come together and discuss your part with each others\n",
    "4. Prepare a very short presentation\n",
    "ou can use Monday afternoon, as well as the practice session on Tuesday morning. The instructor will be available for questions through Slack on Monday, and in person at the practice session on Tuesday morning. We will have the time to wrap-up the summary at the end of the practice<br><br>\n",
    " <h5>\n",
    "     To Do\n",
    "    </h5>\n",
    "This section is different for each group\n",
    "<br><br>\n",
    "\n",
    "More information:\n",
    "https://satijalab.org/seurat/\n",
    "\n",
    "https://satijalab.org/seurat/v3.1/visualization_vignette.html\n"
   ]
  },
  {
   "cell_type": "markdown",
   "metadata": {
    "collapsed": false
   },
   "source": [
    "## Extra code for the practical"
   ]
  },
  {
   "cell_type": "markdown",
   "metadata": {
    "collapsed": false
   },
   "source": [
    "#### subsetting neuronal clusters '0' and '1'"
   ]
  },
  {
   "cell_type": "code",
   "execution_count": 0,
   "metadata": {
    "collapsed": false,
    "jupyter": {
    }
   },
   "outputs": [
   ],
   "source": [
    "small <- subset(dataset, idents = c('0','1'))"
   ]
  },
  {
   "cell_type": "code",
   "execution_count": 0,
   "metadata": {
    "collapsed": false,
    "jupyter": {
    }
   },
   "outputs": [
   ],
   "source": [
    "small"
   ]
  },
  {
   "cell_type": "code",
   "execution_count": 0,
   "metadata": {
    "collapsed": false
   },
   "outputs": [
   ],
   "source": [
    "DimPlot(small, reduction = 'tsne')"
   ]
  },
  {
   "cell_type": "markdown",
   "metadata": {
    "collapsed": false
   },
   "source": [
    "You can proceed from step 3.2 to repeat the analysis of a subset of hte dataset that contains clusters 1 and 2"
   ]
  },
  {
   "cell_type": "markdown",
   "metadata": {
    "collapsed": false
   },
   "source": [
    "# THE END"
   ]
  }
 ],
 "metadata": {
  "kernelspec": {
   "display_name": "R",
   "language": "R",
   "name": "R",
   "resource_dir": "/usr/local/share/jupyter/kernels/R"
  },
  "language_info": {
   "codemirror_mode": "r",
   "file_extension": ".r",
   "mimetype": "text/x-r-source",
   "name": "R",
   "pygments_lexer": "r",
   "version": "4.1.2"
  }
 },
 "nbformat": 4,
 "nbformat_minor": 4
}